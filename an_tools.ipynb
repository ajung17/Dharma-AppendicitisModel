{
 "cells": [
  {
   "cell_type": "code",
   "execution_count": 66,
   "metadata": {},
   "outputs": [],
   "source": [
    "import pandas as pd\n",
    "import numpy as np\n",
    "from sklearn.metrics import roc_auc_score"
   ]
  },
  {
   "cell_type": "code",
   "execution_count": 67,
   "metadata": {},
   "outputs": [],
   "source": [
    "df = pd.read_excel('dataset_unique.xlsx',sheet_name=0)\n",
    "\n",
    "# print (df.shape)\n",
    "\n",
    "# print (df['Appendix_Diameter'].value_counts())"
   ]
  },
  {
   "cell_type": "code",
   "execution_count": 68,
   "metadata": {},
   "outputs": [
    {
     "name": "stdout",
     "output_type": "stream",
     "text": [
      "AUCROC of Alvarado Score: 0.78\n",
      "AUCROC of Paediatric Appendicitis Score (PAS): 0.72\n",
      "AUCROC of USG: 0.88\n"
     ]
    }
   ],
   "source": [
    "df_tools=df[['Alvarado_Score', 'Paedriatic_Appendicitis_Score','Appendix_Diameter','Diagnosis']]\n",
    "df_as = df_tools.loc[df_tools['Alvarado_Score'].notna(), ['Alvarado_Score', 'Diagnosis']]\n",
    "df_pas=df_tools.loc[df_tools['Paedriatic_Appendicitis_Score']!=0,['Paedriatic_Appendicitis_Score','Diagnosis']]\n",
    "# df_usg=df_tools.loc[df_tools['Appendix_Diameter']!=0,['Appendix_Diameter','Diagnosis']]\n",
    "df_usg=df_tools[['Appendix_Diameter','Diagnosis']]\n",
    "\n",
    "alvarado = df_as['Alvarado_Score']\n",
    "pas = df_pas['Paedriatic_Appendicitis_Score']\n",
    "usg=df_usg['Appendix_Diameter']\n",
    "\n",
    "true_as=df_as['Diagnosis']\n",
    "true_pas=df_pas['Diagnosis']\n",
    "true_usg=df_usg['Diagnosis']\n",
    "\n",
    "auc_as = roc_auc_score(true_as, alvarado)\n",
    "auc_pas = roc_auc_score(true_pas, pas)\n",
    "auc_usg= roc_auc_score(true_usg,usg)\n",
    "\n",
    "print(f'AUCROC of Alvarado Score: {auc_as:.2f}')\n",
    "print(f'AUCROC of Paediatric Appendicitis Score (PAS): {auc_pas:.2f}')\n",
    "print(f'AUCROC of USG: {auc_usg:.2f}')"
   ]
  },
  {
   "cell_type": "code",
   "execution_count": 69,
   "metadata": {},
   "outputs": [
    {
     "name": "stdout",
     "output_type": "stream",
     "text": [
      "Diagnosis   0    1\n",
      "AS                \n",
      "<=4        43   13\n",
      ">=5        53  127\n",
      "Diagnosis   0   1\n",
      "PAS              \n",
      "<=5        73  73\n",
      ">=6        23  67\n",
      "Diagnosis   0    1\n",
      "USG               \n",
      "NO         94   29\n",
      "YES         2  111\n"
     ]
    },
    {
     "name": "stderr",
     "output_type": "stream",
     "text": [
      "C:\\Users\\ajung\\AppData\\Local\\Temp\\ipykernel_20436\\1096492663.py:14: SettingWithCopyWarning: \n",
      "A value is trying to be set on a copy of a slice from a DataFrame.\n",
      "Try using .loc[row_indexer,col_indexer] = value instead\n",
      "\n",
      "See the caveats in the documentation: https://pandas.pydata.org/pandas-docs/stable/user_guide/indexing.html#returning-a-view-versus-a-copy\n",
      "  df_usg['USG']=pd.cut(df_usg['Appendix_Diameter'],bins=bins_usg, labels=labels_usg, right=False)\n"
     ]
    }
   ],
   "source": [
    "# Confusion Matrix\n",
    "\n",
    "bins_as=[0,4,10] #Right =True\n",
    "labels_as=['<=4','>=5']\n",
    "\n",
    "bins_pas=[0,5,10] #Right=True\n",
    "labels_pas=['<=5','>=6']\n",
    "\n",
    "bins_usg=[0,6,50] #Right = False\n",
    "labels_usg=['NO','YES']\n",
    "\n",
    "df_as['AS'] = pd.cut(df_as['Alvarado_Score'], bins=bins_as, labels=labels_as, right=True)\n",
    "df_pas['PAS'] = pd.cut(df_pas['Paedriatic_Appendicitis_Score'], bins=bins_pas, labels=labels_pas, right=True)\n",
    "df_usg['USG']=pd.cut(df_usg['Appendix_Diameter'],bins=bins_usg, labels=labels_usg, right=False)\n",
    "\n",
    "matrix_as=pd.crosstab(df_as['AS'],df_as['Diagnosis'])\n",
    "matrix_pas=pd.crosstab(df_pas['PAS'],df_pas['Diagnosis'])\n",
    "matrix_usg=pd.crosstab(df_usg['USG'],df_usg['Diagnosis'])\n",
    "\n",
    "print(f'{matrix_as}')\n",
    "print(f'{matrix_pas}')\n",
    "print(f'{matrix_usg}')\n",
    "\n",
    "tp=67\n",
    "tn=73\n",
    "fp=23\n",
    "fn=73\n"
   ]
  }
 ],
 "metadata": {
  "kernelspec": {
   "display_name": "Python 3",
   "language": "python",
   "name": "python3"
  },
  "language_info": {
   "codemirror_mode": {
    "name": "ipython",
    "version": 3
   },
   "file_extension": ".py",
   "mimetype": "text/x-python",
   "name": "python",
   "nbconvert_exporter": "python",
   "pygments_lexer": "ipython3",
   "version": "3.12.9"
  }
 },
 "nbformat": 4,
 "nbformat_minor": 2
}
