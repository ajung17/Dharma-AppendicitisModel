{
 "cells": [
  {
   "cell_type": "code",
   "execution_count": 6,
   "metadata": {},
   "outputs": [],
   "source": [
    "import pandas as pd\n",
    "import numpy as np\n"
   ]
  },
  {
   "cell_type": "code",
   "execution_count": 7,
   "metadata": {},
   "outputs": [],
   "source": [
    "df1=pd.read_excel('dataset_780.xlsx',sheet_name=0)\n",
    "df2=pd.read_excel('dataset_430.xlsx')\n",
    "\n"
   ]
  },
  {
   "cell_type": "code",
   "execution_count": 8,
   "metadata": {},
   "outputs": [],
   "source": [
    "df1_col=['Sex','Nausea','Coughing_Pain','Loss_of_Appetite','Body_Temperature','Migratory_Pain','Ipsilateral_Rebound_Tenderness','Peritonitis','WBC_Count','Neutrophil_Percentage','Ketones_in_Urine','CRP','Free_Fluids','Appendix_Diameter','Alvarado_Score','Paedriatic_Appendicitis_Score','Diagnosis','Severity']\n",
    "\n",
    "df2_col=['Sex','Nausea','CoughingPain','AppetiteLoss','BodyTemp','MigratoryPain','ReboundTenderness','Peritonitis','WBCCount','NeutrophilPerc','KetonesInUrine','CRPEntry','FreeFluids','AppendixDiameter','AlvaradoScore','PediatricAppendicitisScore','DiagnosisByCriteria','AppendicitisComplications']\n",
    "\n",
    "mapping={\n",
    "    'no':0,\n",
    "    'yes':1,\n",
    "    'male':1,\n",
    "    'female':0,\n",
    "    '+':1,\n",
    "    '++':2,\n",
    "    '+++':3,\n",
    "    'local':1,\n",
    "    'generalized':2,\n",
    "    'generalised':2,\n",
    "    'appendicitis':1,\n",
    "    'no appendicitis':0,\n",
    "    'noAppendicitis':0,\n",
    "    'uncomplicated':0,\n",
    "    'complicated':1,\n",
    "    \n",
    "}\n"
   ]
  },
  {
   "cell_type": "code",
   "execution_count": 9,
   "metadata": {},
   "outputs": [
    {
     "name": "stdout",
     "output_type": "stream",
     "text": [
      "(289, 18)\n"
     ]
    },
    {
     "name": "stderr",
     "output_type": "stream",
     "text": [
      "/var/folders/gt/jkhq8fjj7rg_v80lhs4scmh80000gn/T/ipykernel_21289/3690891886.py:10: FutureWarning: Downcasting behavior in `replace` is deprecated and will be removed in a future version. To retain the old behavior, explicitly call `result.infer_objects(copy=False)`. To opt-in to the future behavior, set `pd.set_option('future.no_silent_downcasting', True)`\n",
      "  df1[col]=df1[col].replace(mapping)\n",
      "/var/folders/gt/jkhq8fjj7rg_v80lhs4scmh80000gn/T/ipykernel_21289/3690891886.py:11: FutureWarning: Downcasting behavior in `replace` is deprecated and will be removed in a future version. To retain the old behavior, explicitly call `result.infer_objects(copy=False)`. To opt-in to the future behavior, set `pd.set_option('future.no_silent_downcasting', True)`\n",
      "  df2[col]=df2[col].replace(mapping)\n"
     ]
    }
   ],
   "source": [
    "\n",
    "df1 = df1.dropna(subset=['Diagnosis'])\n",
    "df1=df1[df1_col].fillna(-1)\n",
    "df2=df2[df2_col].fillna(-1)\n",
    "\n",
    "\n",
    "\n",
    "df2.columns=df1_col\n",
    "\n",
    "for col in df1_col:\n",
    "    df1[col]=df1[col].replace(mapping)\n",
    "    df2[col]=df2[col].replace(mapping)\n",
    "\n",
    "\n",
    "df_combined = pd.concat([df1, df2], ignore_index=True)\n",
    "df_combined=df_combined.drop_duplicates()\n",
    "\n",
    "df_combined = df_combined.replace(-1, np.nan)\n",
    "\n",
    "df_combined.to_excel('dataset_combined.xlsx', index=False)\n",
    "\n",
    "set_df1 = set(map(tuple, df1.to_numpy()))\n",
    "set_df2 = set(map(tuple, df2.to_numpy()))\n",
    "\n",
    "diff_set = set_df2 - set_df1\n",
    "\n",
    "df2_only = pd.DataFrame(list(diff_set), columns=df2.columns)\n",
    "\n",
    "df2_only= df2_only.replace(-1, np.nan)\n",
    "df2_only.to_excel('dataset_unique.xlsx',index=False)\n",
    "print (df2_only.shape)\n",
    "\n",
    "\n",
    "\n"
   ]
  },
  {
   "cell_type": "code",
   "execution_count": 10,
   "metadata": {},
   "outputs": [
    {
     "name": "stdout",
     "output_type": "stream",
     "text": [
      "(650, 18)\n"
     ]
    }
   ],
   "source": [
    "df_yes=df_combined[df_combined['Diagnosis']==1]\n",
    "\n",
    "df_yes.to_excel('dataset_comp.xlsx', index=False)\n",
    "print (df_yes.shape)\n"
   ]
  }
 ],
 "metadata": {
  "kernelspec": {
   "display_name": ".venv",
   "language": "python",
   "name": "python3"
  },
  "language_info": {
   "codemirror_mode": {
    "name": "ipython",
    "version": 3
   },
   "file_extension": ".py",
   "mimetype": "text/x-python",
   "name": "python",
   "nbconvert_exporter": "python",
   "pygments_lexer": "ipython3",
   "version": "3.13.5"
  }
 },
 "nbformat": 4,
 "nbformat_minor": 2
}
