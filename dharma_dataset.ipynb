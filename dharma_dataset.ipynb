{
 "cells": [
  {
   "cell_type": "code",
   "execution_count": 1,
   "metadata": {},
   "outputs": [],
   "source": [
    "import pandas as pd\n",
    "import numpy as np\n",
    "from scipy import stats\n"
   ]
  },
  {
   "cell_type": "code",
   "execution_count": 2,
   "metadata": {},
   "outputs": [
    {
     "name": "stdout",
     "output_type": "stream",
     "text": [
      "Management\n",
      "conservative                 483\n",
      "primary surgical             270\n",
      "secondary surgical            27\n",
      "simultaneous appendectomy      1\n",
      "Name: count, dtype: int64\n"
     ]
    }
   ],
   "source": [
    "df1=pd.read_excel('dataset_780.xlsx',sheet_name=0)\n",
    "df2=pd.read_excel('dataset_430.xlsx')\n",
    "print (df1['Management'].value_counts())\n",
    "\n",
    "# confidence = 0.95\n",
    "# data=df1['Age'].dropna()\n",
    "# # Calculate mean and standard error\n",
    "# mean = np.mean(data)\n",
    "# sem = stats.sem(data)  # Standard Error of the Mean\n",
    "\n",
    "# # t-distribution-based confidence interval\n",
    "# ci = stats.t.interval(confidence, df=len(data)-1, loc=mean, scale=sem)\n",
    "\n",
    "# print(f\"Mean: {mean}\")\n",
    "# print(f\"95% Confidence Interval: {ci}\")\n",
    "# print (len(df1.columns))\n",
    "\n"
   ]
  },
  {
   "cell_type": "code",
   "execution_count": 3,
   "metadata": {},
   "outputs": [],
   "source": [
    "df1_col=['Sex','Nausea','Loss_of_Appetite','Body_Temperature','Migratory_Pain','Ipsilateral_Rebound_Tenderness','Peritonitis','WBC_Count','Neutrophil_Percentage','Ketones_in_Urine','CRP','Free_Fluids','Appendix_Diameter','Alvarado_Score','Paedriatic_Appendicitis_Score','Diagnosis','Severity']\n",
    "\n",
    "df2_col=['Sex','Nausea','AppetiteLoss','BodyTemp','MigratoryPain','ReboundTenderness','Peritonitis','WBCCount','NeutrophilPerc','KetonesInUrine','CRPEntry','FreeFluids','AppendixDiameter','AlvaradoScore','PediatricAppendicitisScore','DiagnosisByCriteria','AppendicitisComplications']\n",
    "\n",
    "mapping={\n",
    "    'no':0,\n",
    "    'yes':1,\n",
    "    'male':1,\n",
    "    'female':0,\n",
    "    '+':1,\n",
    "    '++':2,\n",
    "    '+++':3,\n",
    "    'local':1,\n",
    "    'generalized':2,\n",
    "    'generalised':2,\n",
    "    'appendicitis':1,\n",
    "    'no appendicitis':0,\n",
    "    'noAppendicitis':0,\n",
    "    'uncomplicated':0,\n",
    "    'complicated':1,\n",
    "}"
   ]
  },
  {
   "cell_type": "code",
   "execution_count": 4,
   "metadata": {},
   "outputs": [
    {
     "name": "stdout",
     "output_type": "stream",
     "text": [
      "(780, 17)\n",
      "(430, 17)\n",
      "(1015, 17)\n"
     ]
    },
    {
     "name": "stderr",
     "output_type": "stream",
     "text": [
      "C:\\Users\\ajung\\AppData\\Local\\Temp\\ipykernel_12268\\3777711301.py:8: FutureWarning: Downcasting behavior in `replace` is deprecated and will be removed in a future version. To retain the old behavior, explicitly call `result.infer_objects(copy=False)`. To opt-in to the future behavior, set `pd.set_option('future.no_silent_downcasting', True)`\n",
      "  df1[col]=df1[col].replace(mapping)\n",
      "C:\\Users\\ajung\\AppData\\Local\\Temp\\ipykernel_12268\\3777711301.py:9: FutureWarning: Downcasting behavior in `replace` is deprecated and will be removed in a future version. To retain the old behavior, explicitly call `result.infer_objects(copy=False)`. To opt-in to the future behavior, set `pd.set_option('future.no_silent_downcasting', True)`\n",
      "  df2[col]=df2[col].replace(mapping)\n"
     ]
    },
    {
     "name": "stdout",
     "output_type": "stream",
     "text": [
      "(236, 17)\n"
     ]
    }
   ],
   "source": [
    "\n",
    "df1 = df1.dropna(subset=['Diagnosis'])\n",
    "df1=df1[df1_col].fillna(0)\n",
    "df2=df2[df2_col].fillna(0)\n",
    "\n",
    "df2.columns=df1_col\n",
    "\n",
    "for col in df1_col:\n",
    "    df1[col]=df1[col].replace(mapping)\n",
    "    df2[col]=df2[col].replace(mapping)\n",
    "\n",
    "print(df1.shape)\n",
    "print(df2.shape)\n",
    "\n",
    "df_combined = pd.concat([df1, df2], ignore_index=True)\n",
    "df_combined=df_combined.drop_duplicates()\n",
    "\n",
    "print(df_combined.shape)\n",
    "\n",
    "df_combined.to_excel('dataset_combined.xlsx', index=False)\n",
    "\n",
    "set_df1 = set(map(tuple, df1.to_numpy()))\n",
    "set_df2 = set(map(tuple, df2.to_numpy()))\n",
    "\n",
    "diff_set = set_df2 - set_df1\n",
    "\n",
    "df2_only = pd.DataFrame(list(diff_set), columns=df2.columns)\n",
    "\n",
    "print(df2_only.shape)\n",
    "\n",
    "df2_only.to_excel('dataset_unique.xlsx',index=False)\n"
   ]
  },
  {
   "cell_type": "code",
   "execution_count": 5,
   "metadata": {},
   "outputs": [
    {
     "name": "stdout",
     "output_type": "stream",
     "text": [
      "(236, 17)\n"
     ]
    }
   ],
   "source": [
    "tools = ['Alvarado_Score','Paedriatic_Appendicitis_Score','Appendix_Diameter','Diagnosis']\n",
    "print(df2_only.shape)\n",
    "\n",
    "df2_usg = df2_only[df2_only['Appendix_Diameter'] != 0]"
   ]
  },
  {
   "cell_type": "code",
   "execution_count": null,
   "metadata": {},
   "outputs": [],
   "source": [
    "# Performance of tools in unique dataset\n",
    "\n",
    "df_unique=df2_only[tools]\n",
    "\n",
    "alvarado_bins=[0,4,6,10] # right = true\n",
    "alvarado_labels=['<=4','5-6','>=7']\n",
    "\n",
    "df_unique['as_labels'] = pd.cut(df_unique['Alvarado_Score'],bins=alvarado_bins,labels=alvarado_labels,right=True )\n",
    "\n",
    "as_contingency_table = pd.crosstab(df_unique['as_labels'], df_unique['Diagnosis'])\n",
    "print('For Alvarado Score')\n",
    "print(as_contingency_table)\n",
    "\n",
    "pas_bins=[0,5,10] # right = true\n",
    "pas_labels=['<=5','>=6']\n",
    "\n",
    "df_unique['pas_labels'] = pd.cut(df_unique['Paedriatic_Appendicitis_Score'],bins=pas_bins,labels=pas_labels,right=True )\n",
    "\n",
    "pas_contingency_table = pd.crosstab(df_unique['pas_labels'], df_unique['Diagnosis'])\n",
    "print('For PAS')\n",
    "print(pas_contingency_table)\n",
    "\n",
    "# For USG\n",
    "\n",
    "usg_bins=[0,6,50] # right = false\n",
    "usg_labels=['<6','>=6']\n",
    "\n",
    "df2_usg['usg_labels'] = pd.cut(df2_usg['Appendix_Diameter'],bins=usg_bins,labels=usg_labels,right=False )\n",
    "\n",
    "usg_contingency_table = pd.crosstab(df2_usg['usg_labels'], df2_usg['Diagnosis'])\n",
    "print(usg_contingency_table)\n"
   ]
  }
 ],
 "metadata": {
  "kernelspec": {
   "display_name": "Python 3",
   "language": "python",
   "name": "python3"
  },
  "language_info": {
   "codemirror_mode": {
    "name": "ipython",
    "version": 3
   },
   "file_extension": ".py",
   "mimetype": "text/x-python",
   "name": "python",
   "nbconvert_exporter": "python",
   "pygments_lexer": "ipython3",
   "version": "3.12.10"
  }
 },
 "nbformat": 4,
 "nbformat_minor": 2
}
