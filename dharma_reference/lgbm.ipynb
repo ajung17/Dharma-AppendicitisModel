{
 "cells": [
  {
   "cell_type": "code",
   "execution_count": 1,
   "id": "124470f5",
   "metadata": {},
   "outputs": [],
   "source": [
    "import pandas as pd\n",
    "import numpy as np\n",
    "import lightgbm as lgb\n",
    "from sklearn.model_selection import train_test_split,cross_val_score\n"
   ]
  },
  {
   "cell_type": "code",
   "execution_count": 2,
   "id": "70fc90fa",
   "metadata": {},
   "outputs": [
    {
     "name": "stdout",
     "output_type": "stream",
     "text": [
      "     Peritonitis  Ketones_in_Urine  Nausea  Free_Fluids  Loss_of_Appetite  \\\n",
      "0            0.0               2.0     0.0          0.0               1.0   \n",
      "1            0.0               0.0     0.0          0.0               1.0   \n",
      "2            0.0               0.0     0.0          0.0               0.0   \n",
      "3            0.0               0.0     1.0          0.0               1.0   \n",
      "4            0.0               0.0     1.0          0.0               1.0   \n",
      "..           ...               ...     ...          ...               ...   \n",
      "777          1.0               NaN     0.0          0.0               1.0   \n",
      "778          1.0               NaN     0.0          0.0               1.0   \n",
      "779          0.0               0.0     0.0          1.0               0.0   \n",
      "780          1.0               3.0     1.0          1.0               0.0   \n",
      "781          1.0               0.0     0.0          0.0               0.0   \n",
      "\n",
      "     Appendix_Diameter    CRP  WBC_Count        BMI  Neutrophil_Percentage  \\\n",
      "0                  7.1    0.0        7.7  16.900000                   68.2   \n",
      "1                  NaN    3.0        8.1  31.900000                   64.8   \n",
      "2                  NaN    3.0       13.2  23.300000                   74.8   \n",
      "3                  NaN    0.0       11.4  20.600000                   63.0   \n",
      "4                  7.0    0.0        8.1  16.900000                   44.0   \n",
      "..                 ...    ...        ...        ...                    ...   \n",
      "777                7.5   71.0       11.4  25.250476                   76.6   \n",
      "778                NaN  245.0       17.4  20.429418                   89.2   \n",
      "779                NaN    2.0       14.6  19.909972                   68.5   \n",
      "780               14.0    8.0       17.8  14.295549                   77.0   \n",
      "781                8.0    1.0        9.3  18.171441                   70.0   \n",
      "\n",
      "     Body_Temperature  Diagnosis  \n",
      "0                37.0          1  \n",
      "1                36.9          0  \n",
      "2                36.6          0  \n",
      "3                36.0          0  \n",
      "4                36.9          1  \n",
      "..                ...        ...  \n",
      "777              39.4          1  \n",
      "778              37.8          1  \n",
      "779              37.3          1  \n",
      "780              37.5          1  \n",
      "781              36.8          1  \n",
      "\n",
      "[780 rows x 12 columns]\n"
     ]
    },
    {
     "name": "stderr",
     "output_type": "stream",
     "text": [
      "/var/folders/gt/jkhq8fjj7rg_v80lhs4scmh80000gn/T/ipykernel_6165/3565553070.py:25: FutureWarning: Downcasting behavior in `replace` is deprecated and will be removed in a future version. To retain the old behavior, explicitly call `result.infer_objects(copy=False)`. To opt-in to the future behavior, set `pd.set_option('future.no_silent_downcasting', True)`\n",
      "  df_base[col]=df_base[col].replace(mapping)\n"
     ]
    }
   ],
   "source": [
    "df_base=pd.read_excel('dataset_780.xlsx',sheet_name=0)\n",
    "\n",
    "df_base=df_base.dropna(subset=['Diagnosis'])\n",
    "\n",
    "mapping={\n",
    "    'no':0,\n",
    "    'yes':1,\n",
    "    'male':1,\n",
    "    'female':0,\n",
    "    'normal':0,\n",
    "    'diarrhea':1,\n",
    "    'constipation':1,\n",
    "    '+':1,\n",
    "    '++':2,\n",
    "    '+++':3,\n",
    "    'local':1,\n",
    "    'generalized':2,\n",
    "    'appendicitis':1,\n",
    "    'no appendicitis':0,\n",
    "    'uncomplicated':0,\n",
    "    'complicated':1,\n",
    "}\n",
    "\n",
    "for col in df_base.columns:\n",
    "    df_base[col]=df_base[col].replace(mapping)\n",
    "\n",
    "\n",
    "feat_all= ['Peritonitis','Ketones_in_Urine','Nausea','Free_Fluids','Loss_of_Appetite','Appendix_Diameter','CRP','WBC_Count','BMI','Neutrophil_Percentage','Body_Temperature','Diagnosis']\n",
    "\n",
    "df=df_base[feat_all]\n",
    "print (df)"
   ]
  },
  {
   "cell_type": "code",
   "execution_count": 3,
   "id": "f6094e96",
   "metadata": {},
   "outputs": [],
   "source": [
    "x = df.iloc[:, 0:-1]  \n",
    "y = df.iloc[:, -1]\n",
    "\n",
    "\n",
    "\n",
    "x_temp,x_test, y_temp,y_test = train_test_split(x,y,test_size=0.2,random_state=88)\n",
    "x_train,x_val,y_train,y_val = train_test_split(x_temp,y_temp,test_size=0.25,random_state=88)"
   ]
  },
  {
   "cell_type": "code",
   "execution_count": 4,
   "id": "5b555b53",
   "metadata": {},
   "outputs": [],
   "source": [
    "model_lgb= lgb.LGBMClassifier(\n",
    "    n_estimators=111,\n",
    "    num_leaves=31,\n",
    "    max_depth=-1,\n",
    "    learning_rate=0.1,\n",
    "    min_child_samples=20,\n",
    "    subsample=0.8,\n",
    "    colsample_bytree=0.8,\n",
    "    reg_alpha=0.1,\n",
    "    reg_lambda=0.1,\n",
    "    random_state=17,\n",
    "    eval_metric='logloss',\n",
    "    )"
   ]
  }
 ],
 "metadata": {
  "kernelspec": {
   "display_name": ".venv",
   "language": "python",
   "name": "python3"
  },
  "language_info": {
   "codemirror_mode": {
    "name": "ipython",
    "version": 3
   },
   "file_extension": ".py",
   "mimetype": "text/x-python",
   "name": "python",
   "nbconvert_exporter": "python",
   "pygments_lexer": "ipython3",
   "version": "3.13.5"
  }
 },
 "nbformat": 4,
 "nbformat_minor": 5
}
