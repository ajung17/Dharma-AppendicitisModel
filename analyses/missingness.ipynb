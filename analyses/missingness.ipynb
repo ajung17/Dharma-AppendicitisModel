{
 "cells": [
  {
   "cell_type": "code",
   "execution_count": 3,
   "id": "12e94adf",
   "metadata": {},
   "outputs": [],
   "source": [
    "import pandas as pd\n",
    "\n",
    "df = pd.read_excel('../data_curation/dataset_780.xlsx')\n",
    "df = df.dropna(subset='Diagnosis')"
   ]
  },
  {
   "cell_type": "code",
   "execution_count": 4,
   "id": "1cecf530",
   "metadata": {},
   "outputs": [
    {
     "name": "stdout",
     "output_type": "stream",
     "text": [
      "(780, 58)\n",
      "                                  Missing Count  Missing Percentage\n",
      "Age                                           0            0.000000\n",
      "BMI                                          27            3.461538\n",
      "Sex                                           1            0.128205\n",
      "Height                                       25            3.205128\n",
      "Weight                                        2            0.256410\n",
      "Length_of_Stay                                3            0.384615\n",
      "Management                                    0            0.000000\n",
      "Severity                                      0            0.000000\n",
      "Diagnosis_Presumptive                         1            0.128205\n",
      "Diagnosis                                     0            0.000000\n",
      "Alvarado_Score                               50            6.410256\n",
      "Paedriatic_Appendicitis_Score                50            6.410256\n",
      "Appendix_on_US                                3            0.384615\n",
      "Appendix_Diameter                           282           36.153846\n",
      "Migratory_Pain                                7            0.897436\n",
      "Lower_Right_Abd_Pain                          6            0.769231\n",
      "Contralateral_Rebound_Tenderness             13            1.666667\n",
      "Coughing_Pain                                14            1.794872\n",
      "Nausea                                        6            0.769231\n",
      "Loss_of_Appetite                              8            1.025641\n",
      "Body_Temperature                              5            0.641026\n",
      "WBC_Count                                     4            0.512821\n",
      "Neutrophil_Percentage                       101           12.948718\n",
      "Segmented_Neutrophils                       726           93.076923\n",
      "Neutrophilia                                 48            6.153846\n",
      "RBC_Count                                    16            2.051282\n",
      "Hemoglobin                                   16            2.051282\n",
      "RDW                                          24            3.076923\n",
      "Thrombocyte_Count                            16            2.051282\n",
      "Ketones_in_Urine                            198           25.384615\n",
      "RBC_in_Urine                                204           26.153846\n",
      "WBC_in_Urine                                197           25.256410\n",
      "CRP                                           9            1.153846\n",
      "Dysuria                                      27            3.461538\n",
      "Stool                                        15            1.923077\n",
      "Peritonitis                                   7            0.897436\n",
      "Psoas_Sign                                   35            4.487179\n",
      "Ipsilateral_Rebound_Tenderness              161           20.641026\n",
      "US_Performed                                  3            0.384615\n",
      "US_Number                                    21            2.692308\n",
      "Free_Fluids                                  61            7.820513\n",
      "Appendix_Wall_Layers                        562           72.051282\n",
      "Target_Sign                                 642           82.307692\n",
      "Appendicolith                               711           91.153846\n",
      "Perfusion                                   717           91.923077\n",
      "Perforation                                 699           89.615385\n",
      "Surrounding_Tissue_Reaction                 528           67.692308\n",
      "Appendicular_Abscess                        695           89.102564\n",
      "Abscess_Location                            767           98.333333\n",
      "Pathological_Lymph_Nodes                    577           73.974359\n",
      "Lymph_Nodes_Location                        659           84.487179\n",
      "Bowel_Wall_Thickening                       681           87.307692\n",
      "Conglomerate_of_Bowel_Loops                 737           94.487179\n",
      "Ileus                                       720           92.307692\n",
      "Coprostasis                                 709           90.897436\n",
      "Meteorism                                   640           82.051282\n",
      "Enteritis                                   714           91.538462\n",
      "Gynecological_Findings                      754           96.666667\n"
     ]
    }
   ],
   "source": [
    "print (df.shape)\n",
    "\n",
    "missing_count = df.isna().sum()\n",
    "missing_percent = (missing_count / len(df)) * 100\n",
    "missing_df = pd.DataFrame({\n",
    "    'Missing Count': missing_count,\n",
    "    'Missing Percentage': missing_percent\n",
    "})\n",
    "print(missing_df)\n"
   ]
  }
 ],
 "metadata": {
  "kernelspec": {
   "display_name": ".venv",
   "language": "python",
   "name": "python3"
  },
  "language_info": {
   "codemirror_mode": {
    "name": "ipython",
    "version": 3
   },
   "file_extension": ".py",
   "mimetype": "text/x-python",
   "name": "python",
   "nbconvert_exporter": "python",
   "pygments_lexer": "ipython3",
   "version": "3.13.5"
  }
 },
 "nbformat": 4,
 "nbformat_minor": 5
}
