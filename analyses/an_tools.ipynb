{
 "cells": [
  {
   "cell_type": "code",
   "execution_count": null,
   "id": "03f0f937",
   "metadata": {},
   "outputs": [],
   "source": [
    "import pandas as pd\n",
    "from sklearn.metrics import roc_auc_score"
   ]
  },
  {
   "cell_type": "code",
   "execution_count": null,
   "id": "5fcd7539",
   "metadata": {},
   "outputs": [],
   "source": [
    "df = pd.read_excel('dataset_unique.xlsx',sheet_name=0)"
   ]
  },
  {
   "cell_type": "code",
   "execution_count": null,
   "id": "0627a675",
   "metadata": {},
   "outputs": [],
   "source": [
    "df_tools=df[['Alvarado_Score', 'Paedriatic_Appendicitis_Score','Appendix_Diameter','Diagnosis']]\n",
    "df_as = df_tools.loc[df_tools['Alvarado_Score'].notna(), ['Alvarado_Score', 'Diagnosis']]\n",
    "df_pas=df_tools.loc[df_tools['Paedriatic_Appendicitis_Score']!=0,['Paedriatic_Appendicitis_Score','Diagnosis']]\n",
    "# df_usg=df_tools.loc[df_tools['Appendix_Diameter']!=0,['Appendix_Diameter','Diagnosis']]\n",
    "df_usg=df_tools[['Appendix_Diameter','Diagnosis']]\n",
    "\n",
    "alvarado = df_as['Alvarado_Score']\n",
    "pas = df_pas['Paedriatic_Appendicitis_Score']\n",
    "usg=df_usg['Appendix_Diameter']\n",
    "\n",
    "true_as=df_as['Diagnosis']\n",
    "true_pas=df_pas['Diagnosis']\n",
    "true_usg=df_usg['Diagnosis']\n",
    "\n",
    "auc_as = roc_auc_score(true_as, alvarado)\n",
    "auc_pas = roc_auc_score(true_pas, pas)\n",
    "auc_usg= roc_auc_score(true_usg,usg)\n",
    "\n",
    "print(f'AUCROC of Alvarado Score: {auc_as:.2f}')\n",
    "print(f'AUCROC of Paediatric Appendicitis Score (PAS): {auc_pas:.2f}')\n",
    "print(f'AUCROC of USG: {auc_usg:.2f}')"
   ]
  },
  {
   "cell_type": "code",
   "execution_count": null,
   "id": "b0450616",
   "metadata": {},
   "outputs": [],
   "source": [
    "tools = ['Alvarado_Score','Paedriatic_Appendicitis_Score','Appendix_Diameter','Diagnosis']\n",
    "print(df2_only.shape)\n",
    "\n",
    "df2_usg = df2_only[df2_only['Appendix_Diameter'] != 0]"
   ]
  },
  {
   "cell_type": "code",
   "execution_count": null,
   "id": "817b6277",
   "metadata": {},
   "outputs": [],
   "source": [
    "# Performance of tools in unique dataset\n",
    "\n",
    "df_unique=df2_only[tools]\n",
    "\n",
    "alvarado_bins=[0,4,6,10] # right = true\n",
    "alvarado_labels=['<=4','5-6','>=7']\n",
    "\n",
    "df_unique['as_labels'] = pd.cut(df_unique['Alvarado_Score'],bins=alvarado_bins,labels=alvarado_labels,right=True )\n",
    "\n",
    "as_contingency_table = pd.crosstab(df_unique['as_labels'], df_unique['Diagnosis'])\n",
    "print('For Alvarado Score')\n",
    "print(as_contingency_table)\n",
    "\n",
    "pas_bins=[0,5,10] # right = true\n",
    "pas_labels=['<=5','>=6']\n",
    "\n",
    "df_unique['pas_labels'] = pd.cut(df_unique['Paedriatic_Appendicitis_Score'],bins=pas_bins,labels=pas_labels,right=True )\n",
    "\n",
    "pas_contingency_table = pd.crosstab(df_unique['pas_labels'], df_unique['Diagnosis'])\n",
    "print('For PAS')\n",
    "print(pas_contingency_table)\n",
    "\n",
    "# For USG\n",
    "\n",
    "usg_bins=[0,6,50] # right = false\n",
    "usg_labels=['<6','>=6']\n",
    "\n",
    "df2_usg['usg_labels'] = pd.cut(df2_usg['Appendix_Diameter'],bins=usg_bins,labels=usg_labels,right=False )\n",
    "\n",
    "usg_contingency_table = pd.crosstab(df2_usg['usg_labels'], df2_usg['Diagnosis'])\n",
    "print(usg_contingency_table)\n"
   ]
  }
 ],
 "metadata": {
  "language_info": {
   "name": "python"
  }
 },
 "nbformat": 4,
 "nbformat_minor": 5
}
