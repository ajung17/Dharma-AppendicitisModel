{
 "cells": [
  {
   "cell_type": "code",
   "execution_count": 78,
   "id": "03f0f937",
   "metadata": {},
   "outputs": [],
   "source": [
    "import sys\n",
    "import os\n",
    "root_dir = os.path.abspath(os.path.join(os.getcwd(), '..'))\n",
    "if root_dir not in sys.path:\n",
    "    sys.path.insert(0, root_dir)\n",
    "\n",
    "\n"
   ]
  },
  {
   "cell_type": "code",
   "execution_count": 79,
   "id": "be61079a",
   "metadata": {},
   "outputs": [],
   "source": [
    "import numpy as np\n",
    "import pandas as pd\n",
    "from sklearn.metrics import roc_auc_score\n",
    "from utils.imputer import Selective_Imputer\n",
    "\n",
    "df = pd.read_excel('../data_curation/dataset_unique.xlsx', sheet_name=0)\n"
   ]
  },
  {
   "cell_type": "code",
   "execution_count": 80,
   "id": "5fcd7539",
   "metadata": {},
   "outputs": [
    {
     "name": "stdout",
     "output_type": "stream",
     "text": [
      "0 Sex\n",
      "0 Nausea\n",
      "1 Loss_of_Appetite\n",
      "1 Body_Temperature\n",
      "0 Migratory_Pain\n",
      "3 Ipsilateral_Rebound_Tenderness\n",
      "0 Peritonitis\n",
      "4 WBC_Count\n",
      "37 Neutrophil_Percentage\n",
      "99 Ketones_in_Urine\n",
      "6 CRP\n",
      "15 Free_Fluids\n",
      "97 Appendix_Diameter\n",
      "0 Alvarado_Score\n",
      "0 Paedriatic_Appendicitis_Score\n",
      "0 Diagnosis\n",
      "0 Severity\n"
     ]
    }
   ],
   "source": [
    "\n",
    "feat_all= df.columns.tolist()\n",
    "# print(feat_all)\n",
    "\n",
    "for col in df[feat_all].columns:\n",
    "    print (df[col].isna().sum(),col)\n"
   ]
  },
  {
   "cell_type": "code",
   "execution_count": 81,
   "id": "416cf5cf",
   "metadata": {},
   "outputs": [
    {
     "ename": "TypeError",
     "evalue": "Selective_Imputer.__init__() got an unexpected keyword argument 'col_iter'",
     "output_type": "error",
     "traceback": [
      "\u001b[31m---------------------------------------------------------------------------\u001b[39m",
      "\u001b[31mTypeError\u001b[39m                                 Traceback (most recent call last)",
      "\u001b[36mCell\u001b[39m\u001b[36m \u001b[39m\u001b[32mIn[81]\u001b[39m\u001b[32m, line 4\u001b[39m\n\u001b[32m      1\u001b[39m feat_inlammatory= [\u001b[33m'\u001b[39m\u001b[33mBody_Temperature\u001b[39m\u001b[33m'\u001b[39m, \u001b[33m'\u001b[39m\u001b[33mWBC_Count\u001b[39m\u001b[33m'\u001b[39m, \u001b[33m'\u001b[39m\u001b[33mNeutrophil_Percentage\u001b[39m\u001b[33m'\u001b[39m, \u001b[33m'\u001b[39m\u001b[33mCRP\u001b[39m\u001b[33m'\u001b[39m]\n\u001b[32m      2\u001b[39m feat_others= [\u001b[33m'\u001b[39m\u001b[33mIpsilateral_Rebound_Tenderness\u001b[39m\u001b[33m'\u001b[39m, \u001b[33m'\u001b[39m\u001b[33mLoss_of_Appetite\u001b[39m\u001b[33m'\u001b[39m, \u001b[33m'\u001b[39m\u001b[33mKetones_in_Urine\u001b[39m\u001b[33m'\u001b[39m, \u001b[33m'\u001b[39m\u001b[33mFree_Fluids\u001b[39m\u001b[33m'\u001b[39m]\n\u001b[32m----> \u001b[39m\u001b[32m4\u001b[39m imputer= \u001b[43mSelective_Imputer\u001b[49m\u001b[43m(\u001b[49m\u001b[43mcol_iter\u001b[49m\u001b[43m=\u001b[49m\u001b[43mfeat_inlammatory\u001b[49m\u001b[43m,\u001b[49m\u001b[43m \u001b[49m\u001b[43mcol_knn\u001b[49m\u001b[43m=\u001b[49m\u001b[43mfeat_others\u001b[49m\u001b[43m)\u001b[49m\n",
      "\u001b[31mTypeError\u001b[39m: Selective_Imputer.__init__() got an unexpected keyword argument 'col_iter'"
     ]
    }
   ],
   "source": [
    "feat_inlammatory= ['Body_Temperature', 'WBC_Count', 'Neutrophil_Percentage', 'CRP']\n",
    "feat_others= ['Ipsilateral_Rebound_Tenderness', 'Loss_of_Appetite', 'Ketones_in_Urine', 'Free_Fluids']\n",
    "\n",
    "imputer= Selective_Imputer(col_iter=feat_inlammatory, col_knn=feat_others)\n"
   ]
  },
  {
   "cell_type": "code",
   "execution_count": null,
   "id": "0627a675",
   "metadata": {},
   "outputs": [],
   "source": [
    "df_tools=df[['Alvarado_Score', 'Paedriatic_Appendicitis_Score','Appendix_Diameter','Diagnosis']]\n",
    "\n",
    "\n",
    "\n",
    "# df_as = df_tools.loc[df_tools['Alvarado_Score'].notna(), ['Alvarado_Score', 'Diagnosis']]\n",
    "# df_pas=df_tools.loc[df_tools['Paedriatic_Appendicitis_Score'].notna(),['Paedriatic_Appendicitis_Score','Diagnosis']]\n",
    "# df_usg=df_tools.loc[df_tools['Appendix_Diameter'].notna(),['Appendix_Diameter','Diagnosis']]\n",
    "# df_usg=df_tools[['Appendix_Diameter','Diagnosis']]\n",
    "\n",
    "# alvarado = df_as['Alvarado_Score']\n",
    "# pas = df_pas['Paedriatic_Appendicitis_Score']\n",
    "# usg=df_usg['Appendix_Diameter']\n",
    "\n",
    "# true_as=df_as['Diagnosis']\n",
    "# true_pas=df_pas['Diagnosis']\n",
    "# true_usg=df_usg['Diagnosis']\n",
    "\n",
    "# auc_as = roc_auc_score(true_as, alvarado)\n",
    "# auc_pas = roc_auc_score(true_pas, pas)\n",
    "# auc_usg= roc_auc_score(true_usg,usg)\n",
    "\n",
    "# print(f'AUCROC of Alvarado Score: {auc_as:.2f}')\n",
    "# print(f'AUCROC of Paediatric Appendicitis Score (PAS): {auc_pas:.2f}')\n",
    "# print(f'AUCROC of USG: {auc_usg:.2f}')"
   ]
  },
  {
   "cell_type": "code",
   "execution_count": null,
   "id": "b0450616",
   "metadata": {},
   "outputs": [
    {
     "ename": "NameError",
     "evalue": "name 'df2_only' is not defined",
     "output_type": "error",
     "traceback": [
      "\u001b[31m---------------------------------------------------------------------------\u001b[39m",
      "\u001b[31mNameError\u001b[39m                                 Traceback (most recent call last)",
      "\u001b[36mCell\u001b[39m\u001b[36m \u001b[39m\u001b[32mIn[59]\u001b[39m\u001b[32m, line 2\u001b[39m\n\u001b[32m      1\u001b[39m tools = [\u001b[33m'\u001b[39m\u001b[33mAlvarado_Score\u001b[39m\u001b[33m'\u001b[39m,\u001b[33m'\u001b[39m\u001b[33mPaedriatic_Appendicitis_Score\u001b[39m\u001b[33m'\u001b[39m,\u001b[33m'\u001b[39m\u001b[33mAppendix_Diameter\u001b[39m\u001b[33m'\u001b[39m,\u001b[33m'\u001b[39m\u001b[33mDiagnosis\u001b[39m\u001b[33m'\u001b[39m]\n\u001b[32m----> \u001b[39m\u001b[32m2\u001b[39m \u001b[38;5;28mprint\u001b[39m(\u001b[43mdf2_only\u001b[49m.shape)\n\u001b[32m      4\u001b[39m df2_usg = df2_only[df2_only[\u001b[33m'\u001b[39m\u001b[33mAppendix_Diameter\u001b[39m\u001b[33m'\u001b[39m] != \u001b[32m0\u001b[39m]\n",
      "\u001b[31mNameError\u001b[39m: name 'df2_only' is not defined"
     ]
    }
   ],
   "source": [
    "tools = ['Alvarado_Score','Paedriatic_Appendicitis_Score','Appendix_Diameter','Diagnosis']\n",
    "print(df2_only.shape)\n",
    "\n",
    "df2_usg = df2_only[df2_only['Appendix_Diameter'] != 0]"
   ]
  },
  {
   "cell_type": "code",
   "execution_count": null,
   "id": "817b6277",
   "metadata": {},
   "outputs": [],
   "source": [
    "# Performance of tools in unique dataset\n",
    "\n",
    "df_unique=df2_only[tools]\n",
    "\n",
    "alvarado_bins=[0,4,6,10] # right = true\n",
    "alvarado_labels=['<=4','5-6','>=7']\n",
    "\n",
    "df_unique['as_labels'] = pd.cut(df_unique['Alvarado_Score'],bins=alvarado_bins,labels=alvarado_labels,right=True )\n",
    "\n",
    "as_contingency_table = pd.crosstab(df_unique['as_labels'], df_unique['Diagnosis'])\n",
    "print('For Alvarado Score')\n",
    "print(as_contingency_table)\n",
    "\n",
    "pas_bins=[0,5,10] # right = true\n",
    "pas_labels=['<=5','>=6']\n",
    "\n",
    "df_unique['pas_labels'] = pd.cut(df_unique['Paedriatic_Appendicitis_Score'],bins=pas_bins,labels=pas_labels,right=True )\n",
    "\n",
    "pas_contingency_table = pd.crosstab(df_unique['pas_labels'], df_unique['Diagnosis'])\n",
    "print('For PAS')\n",
    "print(pas_contingency_table)\n",
    "\n",
    "# For USG\n",
    "\n",
    "usg_bins=[0,6,50] # right = false\n",
    "usg_labels=['<6','>=6']\n",
    "\n",
    "df2_usg['usg_labels'] = pd.cut(df2_usg['Appendix_Diameter'],bins=usg_bins,labels=usg_labels,right=False )\n",
    "\n",
    "usg_contingency_table = pd.crosstab(df2_usg['usg_labels'], df2_usg['Diagnosis'])\n",
    "print(usg_contingency_table)\n"
   ]
  }
 ],
 "metadata": {
  "kernelspec": {
   "display_name": ".venv",
   "language": "python",
   "name": "python3"
  },
  "language_info": {
   "codemirror_mode": {
    "name": "ipython",
    "version": 3
   },
   "file_extension": ".py",
   "mimetype": "text/x-python",
   "name": "python",
   "nbconvert_exporter": "python",
   "pygments_lexer": "ipython3",
   "version": "3.13.5"
  }
 },
 "nbformat": 4,
 "nbformat_minor": 5
}
