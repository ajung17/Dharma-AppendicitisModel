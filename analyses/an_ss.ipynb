{
 "cells": [
  {
   "cell_type": "code",
   "execution_count": 4,
   "id": "d1184430",
   "metadata": {},
   "outputs": [],
   "source": [
    "import pandas as pd\n",
    "from scipy.stats import mannwhitneyu\n",
    "import numpy as np"
   ]
  },
  {
   "cell_type": "code",
   "execution_count": 5,
   "id": "22603e2b",
   "metadata": {},
   "outputs": [],
   "source": [
    "df = pd.read_excel('tools.xlsx')"
   ]
  },
  {
   "cell_type": "code",
   "execution_count": 6,
   "id": "249f52db",
   "metadata": {},
   "outputs": [],
   "source": [
    "results = []\n",
    "ss = ['Alvarado_score','PAS_score','AIR_score','Tzanaki_score','Diagnosis']\n",
    "\n",
    "target = ['Diagnosis']\n",
    "\n",
    "df_ss = df[ss]\n",
    "\n",
    "for col in df_ss.columns:\n",
    "    if col in target:\n",
    "        continue\n",
    "    data = df_ss[[col, 'Diagnosis']].dropna()\n",
    "    x=data.shape[0]\n",
    "    group_0=data[data['Diagnosis']==0][col]\n",
    "    group_1=data[data['Diagnosis']==1][col]\n",
    "    stat, p_value = mannwhitneyu(group_0, group_1, alternative='two-sided')\n",
    "\n",
    "    n1, n0 = len(group_1), len(group_0)\n",
    "    r_rb = 1 - (2 * stat) / (n1 * n0)\n",
    "\n",
    "    median_0 = np.median(group_0)\n",
    "    median_1 = np.median(group_1)\n",
    "\n",
    "    mean_0 = np.mean(group_0)\n",
    "    mean_1 = np.mean(group_1)\n",
    "    \n",
    "    results.append({'Feature': col, 'U_statistic': stat, 'p_value': p_value,'rank-biserial correlation': r_rb,'Mean (Positive Class)':mean_1,\n",
    "                    'Mean(Negative Class)':mean_0,'Median(Positive Class)':median_1,'Median(Negative Class)':median_0,'Samples':x})\n",
    "\n",
    "  \n",
    "\n",
    "results_df = pd.DataFrame(results)\n",
    "results_df_sorted = results_df.sort_values(by='p_value', ascending=True)\n",
    "\n",
    "\n",
    "results_df_sorted.to_excel('an_tools.xlsx',index=False)"
   ]
  },
  {
   "cell_type": "code",
   "execution_count": 7,
   "id": "6f65df22",
   "metadata": {},
   "outputs": [
    {
     "name": "stdout",
     "output_type": "stream",
     "text": [
      "97\n"
     ]
    }
   ],
   "source": [
    "df_usg = pd.read_excel('tools.xlsx')\n",
    "\n",
    "print (df_usg['Appendix_Diameter'].isna().sum())"
   ]
  }
 ],
 "metadata": {
  "kernelspec": {
   "display_name": ".venv",
   "language": "python",
   "name": "python3"
  },
  "language_info": {
   "codemirror_mode": {
    "name": "ipython",
    "version": 3
   },
   "file_extension": ".py",
   "mimetype": "text/x-python",
   "name": "python",
   "nbconvert_exporter": "python",
   "pygments_lexer": "ipython3",
   "version": "3.13.5"
  }
 },
 "nbformat": 4,
 "nbformat_minor": 5
}
