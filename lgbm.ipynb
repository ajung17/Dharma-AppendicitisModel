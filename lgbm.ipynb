{
 "cells": [
  {
   "cell_type": "code",
   "execution_count": null,
   "id": "124470f5",
   "metadata": {},
   "outputs": [],
   "source": [
    "import pandas as pd\n",
    "import numpy as np\n",
    "import lightgbm as lgb\n",
    "from sklearn.model_selection import train_test_split,cross_val_score\n"
   ]
  },
  {
   "cell_type": "code",
   "execution_count": null,
   "id": "70fc90fa",
   "metadata": {},
   "outputs": [],
   "source": [
    "df_base=pd.read_excel('dataset_780.xlsx',sheet_name=0)\n",
    "\n",
    "df_base=df_base.dropna(subset=['Diagnosis'])\n",
    "\n",
    "mapping={\n",
    "    'no':0,\n",
    "    'yes':1,\n",
    "    'male':1,\n",
    "    'female':0,\n",
    "    'normal':0,\n",
    "    'diarrhea':1,\n",
    "    'constipation':1,\n",
    "    '+':1,\n",
    "    '++':2,\n",
    "    '+++':3,\n",
    "    'local':1,\n",
    "    'generalized':2,\n",
    "    'appendicitis':1,\n",
    "    'no appendicitis':0,\n",
    "    'uncomplicated':0,\n",
    "    'complicated':1,\n",
    "}\n",
    "\n",
    "for col in df_base.columns:\n",
    "    df_base[col]=df_base[col].replace(mapping)\n",
    "\n",
    "\n",
    "feat_all= ['Peritonitis','Ketones_in_Urine','Nausea','Free_Fluids','Loss_of_Appetite','Appendix_Diameter','CRP','WBC_Count','BMI','Neutrophil_Percentage','Body_Temperature','Diagnosis']\n",
    "\n",
    "df=df_base[feat_all]\n",
    "print (df)"
   ]
  },
  {
   "cell_type": "code",
   "execution_count": null,
   "id": "f6094e96",
   "metadata": {},
   "outputs": [],
   "source": [
    "x = df.iloc[:, 0:-1]  \n",
    "y = df.iloc[:, -1]\n",
    "\n",
    "\n",
    "\n",
    "x_temp,x_test, y_temp,y_test = train_test_split(x,y,test_size=0.2,random_state=88)\n",
    "x_train,x_val,y_train,y_val = train_test_split(x_temp,y_temp,test_size=0.25,random_state=88)"
   ]
  },
  {
   "cell_type": "code",
   "execution_count": null,
   "id": "5b555b53",
   "metadata": {},
   "outputs": [],
   "source": [
    "model_lgb= lgb.LGBMClassifier(\n",
    "    n_estimators=111,\n",
    "    num_leaves=31,\n",
    "    max_depth=-1,\n",
    "    learning_rate=0.1,\n",
    "    min_child_samples=20,\n",
    "    subsample=0.8,\n",
    "    colsample_bytree=0.8,\n",
    "    reg_alpha=0.1,\n",
    "    reg_lambda=0.1,\n",
    "    random_state=17,\n",
    "    eval_metric='logloss',\n",
    "    )"
   ]
  }
 ],
 "metadata": {
  "kernelspec": {
   "display_name": ".venv",
   "language": "python",
   "name": "python3"
  },
  "language_info": {
   "name": "python",
   "version": "3.13.5"
  }
 },
 "nbformat": 4,
 "nbformat_minor": 5
}
